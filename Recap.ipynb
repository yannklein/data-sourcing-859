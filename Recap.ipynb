{
 "cells": [
  {
   "cell_type": "code",
   "execution_count": 2,
   "metadata": {},
   "outputs": [],
   "source": [
    "import random\n",
    "def whosnext():\n",
    "    students = [\"Gilles\", \"Joseph\", \"Xicheng\", \"Cristobal\", \"Nicholas\", \"Nayoung\", \"Elizabeth\", \"Kevser\", \"Phuong\", \"Bryan\"]\n",
    "    print(random.choice(students))"
   ]
  },
  {
   "cell_type": "markdown",
   "metadata": {},
   "source": [
    "# Reboot - Data Collection\n",
    "\n",
    "Let's practise calling an API and navigating a JSON response!\n",
    "\n",
    "---\n",
    "\n",
    "## 1. Simple API call\n",
    "\n",
    "There's an API for pretty much everything. Let's start with a super simple one: the [Breaking Bad quotes API](https://github.com/shevabam/breaking-bad-quotes) (alternatively, use the [Movie Quotes API](https://movie-quote-api.herokuapp.com/v1/quote/)).\n",
    "\n",
    "For your convenience, we've included the simple syntax to do an HTTP request in Python and convert the response to a Python object as boilerplate code.\n",
    "\n",
    "The goal here is to get a single, random Breaking Bad quote and print it out to the terminal. \n",
    "\n",
    "Go the [doc](https://github.com/shevabam/breaking-bad-quotes) to find out which URL you need to use. Make sure to carefully check out the data types you're getting back from the API and extract the string you need."
   ]
  },
  {
   "cell_type": "code",
   "execution_count": 4,
   "metadata": {},
   "outputs": [
    {
     "name": "stdout",
     "output_type": "stream",
     "text": [
      "Phuong\n"
     ]
    }
   ],
   "source": [
    "whosnext()"
   ]
  },
  {
   "cell_type": "code",
   "execution_count": 8,
   "metadata": {
    "scrolled": true
   },
   "outputs": [
    {
     "data": {
      "text/plain": [
       "'You all know exactly who I am. Say my name.'"
      ]
     },
     "execution_count": 8,
     "metadata": {},
     "output_type": "execute_result"
    }
   ],
   "source": [
    "import requests\n",
    "url = \"https://breaking-bad-quotes.herokuapp.com/v1/quotes\"\n",
    "quote = requests.get(url).json()\n",
    "quote[0][\"quote\"]"
   ]
  },
  {
   "cell_type": "markdown",
   "metadata": {},
   "source": [
    "---\n",
    "## 2. Looping over API results\n",
    "\n",
    "Often APIs will serve a list of results that we need to loop over and manipulate. For this next example, we will use the [Star Wars API](https://swapi.dev).\n",
    "\n",
    "First, go to the [documentation](https://swapi.dev/documentation) to find out which URL you're going to need to retrieve"
   ]
  },
  {
   "cell_type": "code",
   "execution_count": 9,
   "metadata": {},
   "outputs": [
    {
     "name": "stdout",
     "output_type": "stream",
     "text": [
      "Cristobal\n"
     ]
    }
   ],
   "source": [
    "whosnext()"
   ]
  },
  {
   "cell_type": "code",
   "execution_count": 11,
   "metadata": {
    "tags": [
     "challengify"
    ]
   },
   "outputs": [],
   "source": [
    "# YOUR CODE HERE\n",
    "base_url = 'https://swapi.dev/api'"
   ]
  },
  {
   "cell_type": "markdown",
   "metadata": {},
   "source": [
    "Use `requests` to retrieve the people from the API. Store this in a `response` variable. What's the type of `response`?"
   ]
  },
  {
   "cell_type": "code",
   "execution_count": 14,
   "metadata": {
    "tags": [
     "challengify"
    ]
   },
   "outputs": [
    {
     "data": {
      "text/plain": [
       "dict"
      ]
     },
     "execution_count": 14,
     "metadata": {},
     "output_type": "execute_result"
    }
   ],
   "source": [
    "# YOUR CODE HERE\n",
    "response = requests.get(f\"{base_url}/people\").json()\n",
    "type(response)"
   ]
  },
  {
   "cell_type": "markdown",
   "metadata": {
    "slideshow": {
     "slide_type": "slide"
    }
   },
   "source": [
    "Loop over the **5 first people** and print a sentece for each following this template:\n",
    "\n",
    "- `Luke Skywalker has blue eyes`\n",
    "- `C-3PO has yellow eyes`\n",
    "- etc."
   ]
  },
  {
   "cell_type": "code",
   "execution_count": 22,
   "metadata": {
    "tags": [
     "challengify"
    ]
   },
   "outputs": [
    {
     "name": "stdout",
     "output_type": "stream",
     "text": [
      "Luke Skywalker has blue eyes\n",
      "C-3PO has yellow eyes\n",
      "R2-D2 has red eyes\n",
      "Darth Vader has yellow eyes\n",
      "Leia Organa has brown eyes\n"
     ]
    }
   ],
   "source": [
    "# YOUR CODE HERE\n",
    "people = response['results'][0:5]\n",
    "for person in people:\n",
    "    print(f'{person.get(\"name\", \"someone\")} has {person.get(\"eye_color\", \"colored\")} eyes')"
   ]
  },
  {
   "cell_type": "markdown",
   "metadata": {},
   "source": [
    "---\n",
    "## 3. Geocoding\n",
    "\n",
    "A geocoding service is a tool to convert addresses to geo-coordinates and vice versa. We use them every time we fire up our GPS apps and look for a destination.\n",
    "\n",
    "For this exercise, we will use the [Nominatim API](https://nominatim.openstreetmap.org/)\n",
    "\n",
    "First, get familiar with the documentation, [which you will find here](https://nominatim.org/release-docs/latest/api/Overview/). Take a couple of minutes to read through and become familiar with it. In this exercise, we will need to find a set of geo-coordinates for a given address, and find an address from a set of geo-coordinates."
   ]
  },
  {
   "cell_type": "markdown",
   "metadata": {},
   "source": [
    "Use the API to find the latitude and longitude for this address: `10 Downing St, Westminster, London SW1A 2AA, United Kingdom`."
   ]
  },
  {
   "cell_type": "code",
   "execution_count": 25,
   "metadata": {},
   "outputs": [
    {
     "name": "stdout",
     "output_type": "stream",
     "text": [
      "Gilles\n"
     ]
    }
   ],
   "source": [
    "whosnext()"
   ]
  },
  {
   "cell_type": "code",
   "execution_count": 30,
   "metadata": {
    "tags": [
     "challengify"
    ]
   },
   "outputs": [
    {
     "name": "stdout",
     "output_type": "stream",
     "text": [
      "https://nominatim.openstreetmap.org/search\n",
      "{'lat': '51.50344025', 'lon': '-0.12770820958562096'}\n"
     ]
    }
   ],
   "source": [
    "# YOUR CODE HERE\n",
    "tower = \"10 Downing St, Westminster, London SW1A 2AA, United Kingdom\"\n",
    "\n",
    "base_url = 'https://nominatim.openstreetmap.org/search'\n",
    "\n",
    "def osm_conversion(address):\n",
    "#     url = f\"{base_url}?q={address}\"\n",
    "    print(base_url)\n",
    "    response = requests.get(\n",
    "        base_url, \n",
    "        params={\n",
    "            'q': address,\n",
    "            'format': 'json'\n",
    "        }\n",
    "    ).json()\n",
    "    return {'lat': response[0]['lat'], 'lon': response[0]['lon']}\n",
    "    \n",
    "print(osm_conversion(tower))"
   ]
  },
  {
   "cell_type": "markdown",
   "metadata": {},
   "source": [
    "Try with another address of your choice!"
   ]
  },
  {
   "cell_type": "code",
   "execution_count": null,
   "metadata": {
    "tags": [
     "challengify"
    ]
   },
   "outputs": [],
   "source": [
    "# YOUR CODE HERE"
   ]
  },
  {
   "cell_type": "markdown",
   "metadata": {},
   "source": [
    "---\n",
    "## 4. Reverse Geocoding\n",
    "\n",
    "Find the address belonging to this set of geo-coordinates: `{'lat': 38.8976633, 'lng': -77.036650 }`.\n",
    "Print the sentence `I would like to visit X`, replacing X with the address you found."
   ]
  },
  {
   "cell_type": "code",
   "execution_count": 32,
   "metadata": {
    "tags": [
     "challengify"
    ]
   },
   "outputs": [],
   "source": [
    "# YOUR CODE HERE\n",
    "coord = {'lat': 38.8976633, 'lng': -77.036650 }\n",
    "base_url = \"https://nominatim.openstreetmap.org/reverse\""
   ]
  },
  {
   "cell_type": "code",
   "execution_count": 34,
   "metadata": {},
   "outputs": [
    {
     "data": {
      "text/plain": [
       "{'place_id': 159983331,\n",
       " 'licence': 'Data © OpenStreetMap contributors, ODbL 1.0. https://osm.org/copyright',\n",
       " 'osm_type': 'way',\n",
       " 'osm_id': 238241022,\n",
       " 'lat': '38.897699700000004',\n",
       " 'lon': '-77.03655315',\n",
       " 'display_name': 'White House, 1600, Pennsylvania Avenue Northwest, Washington, District of Columbia, 20500, United States',\n",
       " 'address': {'office': 'White House',\n",
       "  'house_number': '1600',\n",
       "  'road': 'Pennsylvania Avenue Northwest',\n",
       "  'city': 'Washington',\n",
       "  'state': 'District of Columbia',\n",
       "  'postcode': '20500',\n",
       "  'country': 'United States',\n",
       "  'country_code': 'us'},\n",
       " 'boundingbox': ['38.8974908', '38.897911', '-77.0368537', '-77.0362519']}"
      ]
     },
     "execution_count": 34,
     "metadata": {},
     "output_type": "execute_result"
    }
   ],
   "source": [
    "response = requests.get(\n",
    "    base_url, \n",
    "    params={\n",
    "        'lat': coord['lat'],\n",
    "        'lon': coord['lng'],\n",
    "        'format': 'json'\n",
    "    }).json()\n",
    "response"
   ]
  },
  {
   "cell_type": "code",
   "execution_count": 36,
   "metadata": {},
   "outputs": [
    {
     "data": {
      "text/plain": [
       "'I would like to visit White House, 1600, Pennsylvania Avenue Northwest, Washington, District of Columbia, 20500, United States'"
      ]
     },
     "execution_count": 36,
     "metadata": {},
     "output_type": "execute_result"
    }
   ],
   "source": [
    "f\"I would like to visit {response['display_name']}\""
   ]
  },
  {
   "cell_type": "code",
   "execution_count": null,
   "metadata": {},
   "outputs": [],
   "source": []
  }
 ],
 "metadata": {
  "kernelspec": {
   "display_name": "Python 3 (ipykernel)",
   "language": "python",
   "name": "python3"
  },
  "language_info": {
   "codemirror_mode": {
    "name": "ipython",
    "version": 3
   },
   "file_extension": ".py",
   "mimetype": "text/x-python",
   "name": "python",
   "nbconvert_exporter": "python",
   "pygments_lexer": "ipython3",
   "version": "3.8.3"
  },
  "toc": {
   "base_numbering": 1,
   "nav_menu": {},
   "number_sections": true,
   "sideBar": true,
   "skip_h1_title": false,
   "title_cell": "Table of Contents",
   "title_sidebar": "Contents",
   "toc_cell": false,
   "toc_position": {},
   "toc_section_display": true,
   "toc_window_display": false
  }
 },
 "nbformat": 4,
 "nbformat_minor": 4
}
